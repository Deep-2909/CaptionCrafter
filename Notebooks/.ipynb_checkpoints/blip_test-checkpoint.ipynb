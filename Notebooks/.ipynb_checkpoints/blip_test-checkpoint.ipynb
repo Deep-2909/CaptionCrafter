{
 "cells": [
  {
   "cell_type": "code",
   "execution_count": 12,
   "id": "9f6ce5f8-481e-47e6-bdd9-585bcdff023c",
   "metadata": {},
   "outputs": [
    {
     "name": "stdout",
     "output_type": "stream",
     "text": [
      "BLIP model loaded successfully\n"
     ]
    }
   ],
   "source": [
    "from transformers import BlipProcessor, BlipForConditionalGeneration\n",
    "from PIL import Image\n",
    "import torch\n",
    "\n",
    "# Load model + processor\n",
    "processor = BlipProcessor.from_pretrained(\"Salesforce/blip-image-captioning-base\")\n",
    "model = BlipForConditionalGeneration.from_pretrained(\"Salesforce/blip-image-captioning-base\")\n",
    "\n",
    "print(\"BLIP model loaded successfully\")"
   ]
  },
  {
   "cell_type": "code",
   "execution_count": 13,
   "id": "3d38459e-21e4-42f8-9911-eb45b9523b65",
   "metadata": {},
   "outputs": [],
   "source": [
    "image_path = \"/Users/deepanshu/Documents/CaptionCrafter/Sample_images/DP.jpeg\"\n",
    "image = Image.open(image_path).convert('RGB')\n",
    "image.show()"
   ]
  },
  {
   "cell_type": "code",
   "execution_count": 24,
   "id": "b531945c-f706-4d3e-a02e-d4846c6bf1a5",
   "metadata": {},
   "outputs": [
    {
     "name": "stdout",
     "output_type": "stream",
     "text": [
      "BLIP Description: a man sitting on a motorcycle in a city\n"
     ]
    }
   ],
   "source": [
    "# Run BLIP on the image\n",
    "inputs = processor(images=image, return_tensors=\"pt\")\n",
    "out = model.generate(**inputs)\n",
    "description = processor.decode(out[0], skip_special_tokens=True)\n",
    "\n",
    "print(\"BLIP Description:\", description)"
   ]
  },
  {
   "cell_type": "code",
   "execution_count": 25,
   "id": "a82445f8-34aa-468e-b0ab-350e1f22d712",
   "metadata": {},
   "outputs": [],
   "source": [
    "def beautify_description(raw_desc, model=\"mistralai/Mixtral-8x7B-Instruct-v0.1\"):\n",
    "    response = client.chat.completions.create(\n",
    "        model=model,\n",
    "        messages=[\n",
    "            {\"role\": \"system\", \"content\": \"You're a creative writer who rephrases dull image descriptions.\"},\n",
    "            {\"role\": \"user\", \"content\": f\"Rewrite this description to be more aesthetic, expressive, and Instagram-caption-friendly: '{raw_desc}'\"}\n",
    "        ],\n",
    "        temperature=0.9\n",
    "    )\n",
    "    return response.choices[0].message.content.strip()"
   ]
  },
  {
   "cell_type": "code",
   "execution_count": 32,
   "id": "f4141f78-1422-40fd-b20e-7f7fb5208ba2",
   "metadata": {},
   "outputs": [
    {
     "name": "stdout",
     "output_type": "stream",
     "text": [
      "Modified Description:  \"A lone wanderer, poised upon his steel steed, cuts a striking figure amidst the urban jungle. The city's concrete canyons become his playground, as he perches on his motorcycle, revving engine echoing off the towering skyscrapers. A modern-day cowboy, he finds freedom within the confines of the metropolis, ruled by the roar of his engine and the thrill of the open road.\"\n"
     ]
    }
   ],
   "source": [
    "beautified_desc = beautify_description(description)\n",
    "print(\"Modified Description: \", beautified_desc)"
   ]
  },
  {
   "cell_type": "code",
   "execution_count": 27,
   "id": "d9617c69-1013-4f30-aace-6f58b3a36c5c",
   "metadata": {},
   "outputs": [],
   "source": [
    "import openai"
   ]
  },
  {
   "cell_type": "code",
   "execution_count": 28,
   "id": "db7cb878-bc4c-43d1-ad8a-b4e9b40a104a",
   "metadata": {},
   "outputs": [],
   "source": [
    "from openai import OpenAI\n",
    "\n",
    "# Setup client\n",
    "client = OpenAI(\n",
    "    api_key=\"8076d98e998c2edadd37a2ab286a5f9e1cf49f9131a9ac6370e10a3ff63813d5\",\n",
    "    base_url=\"https://api.together.xyz/v1\"\n",
    ")\n",
    "\n",
    "# Function to generate captions\n",
    "def generate_fancy_captions(beautified_desc, tone=\"aesthetic\", n_captions=3):\n",
    "    tone_prompt_map = {\n",
    "    \"funny\": f\"Write {n_captions} funny Instagram captions for a photo of: \",\n",
    "    \"poetic\": f\"Write {n_captions} poetic and deep captions about: \",\n",
    "    \"aesthetic\": f\"Write {n_captions} short, stylish, aesthetic captions for: \",\n",
    "    \"travel\": f\"Write {n_captions} wanderlust-style captions for: \",\n",
    "    \"hashtag-heavy\": f\"Write {n_captions} captions with 5 trending hashtags each for a photo of: \",\n",
    "    \"romantic\": f\"Write {n_captions} romantic captions for a photo of: \",\n",
    "    \"motivational\": f\"Write {n_captions} inspiring and motivational captions about: \",\n",
    "    \"sarcastic\": f\"Write {n_captions} sarcastic and witty captions for a photo of: \",\n",
    "    \"luxury\": f\"Write {n_captions} luxurious and elegant captions about: \",\n",
    "    \"foodie\": f\"Write {n_captions} witty foodie captions about: \",\n",
    "    \"minimalist\": f\"Write {n_captions} short and minimalist captions for: \",\n",
    "    \"song-lyrics\": f\"Write {n_captions} captions that sound like emotional or aesthetic song lyrics for: \",\n",
    "    \"quote-style\": f\"Write {n_captions} caption ideas that sound like quotes for: \",\n",
    "    \"emotional\": f\"Write {n_captions} emotionally expressive captions for: \",\n",
    "    \"birthday\": f\"Write {n_captions} fun or heartwarming birthday captions for: \",\n",
    "    \"self-love\": f\"Write {n_captions} confident and self-love themed captions about: \",\n",
    "}\n",
    "\n",
    "    prompt = tone_prompt_map.get(tone, tone_prompt_map[\"aesthetic\"]) + beautified_desc\n",
    "\n",
    "    response = client.chat.completions.create(\n",
    "        model=\"mistralai/Mixtral-8x7B-Instruct-v0.1\",  #Working chat model\n",
    "        messages=[\n",
    "            {\"role\": \"system\", \"content\": \"You are an expert social media caption writer.\"},\n",
    "            {\"role\": \"user\", \"content\": prompt}\n",
    "        ],\n",
    "        temperature=0.9\n",
    "    )\n",
    "\n",
    "    return response.choices[0].message.content"
   ]
  },
  {
   "cell_type": "code",
   "execution_count": 31,
   "id": "e4bfdddc-d7c8-44a2-a9de-1cd578f6a2f7",
   "metadata": {},
   "outputs": [
    {
     "name": "stdout",
     "output_type": "stream",
     "text": [
      "Captions:\n",
      "  1. \"City skylines and open roads, life is good on two wheels. #wanderlust #motorcyclelife\"\n",
      "2. \"Exploring new cities one mile at a time. The world is my playground. #cityadventures #motorcycletravel\"\n",
      "3. \"Freedom in every direction I turn. The city is my playground and the motorcycle is my ticket to explore. #citywanderer #motorcyclelove\"\n",
      "4. \"A man, a motorcycle, and a city to discover. Life doesn't get much better than this. #motorcycleadventures #cityescapes\"\n"
     ]
    }
   ],
   "source": [
    "captions = generate_fancy_captions(description, tone=\"travel\", n_captions=4)\n",
    "print(\"Captions:\\n\", captions)"
   ]
  },
  {
   "cell_type": "code",
   "execution_count": null,
   "id": "643e8428-fde1-4b1b-9fe3-6e3e09f41f61",
   "metadata": {},
   "outputs": [],
   "source": []
  }
 ],
 "metadata": {
  "kernelspec": {
   "display_name": "Python 3 (ipykernel)",
   "language": "python",
   "name": "python3"
  },
  "language_info": {
   "codemirror_mode": {
    "name": "ipython",
    "version": 3
   },
   "file_extension": ".py",
   "mimetype": "text/x-python",
   "name": "python",
   "nbconvert_exporter": "python",
   "pygments_lexer": "ipython3",
   "version": "3.10.18"
  }
 },
 "nbformat": 4,
 "nbformat_minor": 5
}
